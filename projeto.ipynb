{
  "cells": [
    {
      "cell_type": "markdown",
      "metadata": {},
      "source": [
        "### a) Leitura do arquivo de entrada em estruturas de dados apropriadas"
      ]
    },
    {
      "cell_type": "code",
      "metadata": {
        "id": "Wmsy9U79Wkyh",
        "colab_type": "code",
        "colab": {
          "base_uri": "https://localhost:8080/",
          "height": 102
        },
        "outputId": "3c127eb0-29f6-4e81-9d6e-f70c49f31254"
      },
      "source": [
        "from math import inf\n",
        "\n",
        "from contratos import Contratos\n",
        "\n",
        "\n",
        "def ler_contratos_de_arquivo(caminho: str) -> Contratos:\n",
        "  with open('entrada2.txt', 'r') as arquivo:\n",
        "    # Lendo a primeira linha do arquivo texto\n",
        "    n, m, t = arquivo.readline().split()\n",
        "\n",
        "    t_taxa = float(t) # Valor da taxa de mudança de fornecedor\n",
        "    n_meses = int(n) # Quantidade de meses\n",
        "    m_fornecedores = int(m) # Quantidade de fornecedores\n",
        "\n",
        "    print(f'(n, m, t) = ({n_meses}, {m_fornecedores}, {t_taxa:.2f})')\n",
        "    print()\n",
        "\n",
        "    # Lendo o restante das linhas do arquivo e gerando a matriz base\n",
        "    # m * n * n\n",
        "    A = [[[inf for k in range(n_meses)] for j in range(n_meses)] for i in range(m_fornecedores)]\n",
        "\n",
        "    print(f'Contratos armazenados em matriz: {len(A)}x{len(A[0])}x{len(A[0][0])}')\n",
        "    print(f'Tamanho total da matriz: {len(A) * len(A[0]) * len(A[0][0])}')\n",
        "\n",
        "    for linha in arquivo:\n",
        "        dados = linha.split(' ');\n",
        "        i_fornecedor, j_inicio, k_fim = map(lambda i: int(i), dados[:-1])\n",
        "        A[i_fornecedor - 1][j_inicio - 1][k_fim - 1] = float(dados[-1])\n",
        "    \n",
        "    return Contratos(A, t_taxa)\n",
        "\n",
        "c = ler_contratos_de_arquivo('entrada2.txt')"
      ],
      "execution_count": 58,
      "outputs": [
        {
          "output_type": "stream",
          "name": "stdout",
          "text": "(n, m, t) = (120, 100, 100.00)\n\nContratos armazenados em matriz: 100x120x120\nTamanho total da matriz: 1440000\n"
        }
      ]
    },
    {
      "cell_type": "markdown",
      "metadata": {},
      "source": [
        "**b)** Complexidade da estrutura de dados = Θ(m * n^2)\n",
        "\n",
        "### c) Criar uma função eficiente que retorna o contrato individual, referente ao período completo de n meses, que possui o menor valor"
      ]
    },
    {
      "cell_type": "code",
      "metadata": {
        "id": "eB3AgiuCLkHX",
        "colab_type": "code",
        "colab": {
          "base_uri": "https://localhost:8080/",
          "height": 34
        },
        "outputId": "ff5b9605-5e10-4b94-df2b-fe26eef59856"
      },
      "source": [
        "from contratos import Contrato\n",
        "\n",
        "\n",
        "def get_menor_contrato_periodo(c: Contratos, mes_inicial: int, mes_final: int) -> Contrato:\n",
        "    menor_contrato = Contrato(c.num_fornecedores, c.num_meses, c.num_meses, inf)\n",
        "    for forn in range(c.num_fornecedores):\n",
        "        contrato = c.get_contrato(forn, mes_inicial, mes_final)\n",
        "        if contrato.valor < menor_contrato.valor:\n",
        "            menor_contrato = contrato\n",
        "    return menor_contrato\n",
        "\n",
        "menor_contrato_periodo_completo = get_menor_contrato_periodo(c, 0, c.num_meses - 1)\n",
        "print(f'O fornecedor {menor_contrato_periodo_completo.fornecedor + 1} oferece o menor contrato do período completo, que custa: {menor_contrato_periodo_completo.valor:.2f}')\n"
      ],
      "execution_count": 59,
      "outputs": [
        {
          "output_type": "stream",
          "name": "stdout",
          "text": "O fornecedor 61 oferece o menor contrato do período completo, que custa: 687.10\n"
        }
      ]
    },
    {
      "cell_type": "markdown",
      "metadata": {},
      "source": [
        "**d)** Complexidade de (c): Θ(m)\n",
        "\n",
        "### e) Criar uma função eficiente que retorna o contrato individual de menor valor do mercado, independente do período a que se refere"
      ]
    },
    {
      "cell_type": "code",
      "metadata": {
        "id": "0W2ckkQ8fmPB",
        "colab_type": "code",
        "colab": {
          "base_uri": "https://localhost:8080/",
          "height": 34
        },
        "outputId": "6cf796b0-6138-42c7-aef2-c01f48d70574"
      },
      "source": [
        "def get_menor_contrato(c: Contratos) -> Contrato:\n",
        "    min_contrato = Contrato(c.num_fornecedores, c.num_meses, c.num_meses, inf)\n",
        "    for mes in range(c.num_meses):\n",
        "        contrato = get_menor_contrato_periodo(c, mes, mes)\n",
        "        if contrato.valor < min_contrato.valor:\n",
        "            min_contrato = contrato\n",
        "    return min_contrato\n",
        "\n",
        "menor_contrato = get_menor_contrato(c)\n",
        "print(f'O menor contrato é fornecido por {menor_contrato.fornecedor + 1}, do período ({menor_contrato.mes_inicio + 1}, {menor_contrato.mes_fim + 1}) pelo valor de {menor_contrato.valor:.2f}')"
      ],
      "execution_count": 60,
      "outputs": [
        {
          "output_type": "stream",
          "name": "stdout",
          "text": "O menor contrato é fornecido por 96, do período (4, 4) pelo valor de 10.00\n"
        }
      ]
    },
    {
      "cell_type": "markdown",
      "metadata": {},
      "source": [
        "**f)** Complexidade Θ(m * n)"
      ]
    },
    {
      "cell_type": "markdown",
      "metadata": {},
      "source": [
        "g)"
      ]
    },
    {
      "cell_type": "code",
      "execution_count": 61,
      "metadata": {},
      "outputs": [
        {
          "output_type": "stream",
          "name": "stdout",
          "text": "Para o período completo de 120 meses o menor contrato é: Contrato(fornecedor=60, mes_inicio=0, mes_fim=119, valor=687.1)\n"
        }
      ],
      "source": [
        "def menor_contrato_periodo_completo(c: Contratos, x_num_meses: int) -> Contrato:\n",
        "    menor_contrato = Contrato(c.num_fornecedores, c.num_meses, c.num_meses, inf)\n",
        "\n",
        "    periodo_completo = x_num_meses - 1\n",
        "    for inicio in range(0, c.num_meses - periodo_completo):\n",
        "        fim = inicio + periodo_completo\n",
        "        contrato = get_menor_contrato_periodo(c, inicio, fim)\n",
        "        if contrato.valor < menor_contrato.valor:\n",
        "            menor_contrato = contrato\n",
        "    return menor_contrato\n",
        "\n",
        "x_periodo = c.num_meses\n",
        "menor_contrato = menor_contrato_periodo_completo(c, x_periodo)\n",
        "print(f'Para o período completo de {x_periodo} meses o menor contrato é: {menor_contrato}')\n"
      ]
    },
    {
      "cell_type": "code",
      "execution_count": 62,
      "metadata": {},
      "outputs": [
        {
          "output_type": "stream",
          "name": "stdout",
          "text": "Para o período completo de 119 meses o menor contrato é: Contrato(fornecedor=60, mes_inicio=0, mes_fim=118, valor=682.1)\n"
        }
      ],
      "source": [
        "x_periodo = 119\n",
        "menor_contrato = menor_contrato_periodo_completo(c, x_periodo)\n",
        "print(f'Para o período completo de {x_periodo} meses o menor contrato é: {menor_contrato}')\n"
      ]
    },
    {
      "cell_type": "code",
      "execution_count": 64,
      "metadata": {},
      "outputs": [
        {
          "output_type": "stream",
          "name": "stdout",
          "text": "[Contrato(fornecedor=60, mes_inicio=0, mes_fim=119, valor=687.1)]\n"
        }
      ],
      "source": [
        "def get_menores_contratos_periodo_completo(c):\n",
        "    contratos_return = []\n",
        "    maxPeriodo = c.num_meses\n",
        "    minPeriodo = 0\n",
        "    valorTotal = 0\n",
        "\n",
        "    menor_contrato = get_menor_contrato_periodo(c,minPeriodo,maxPeriodo - 1)\n",
        "    valorTotal = menor_contrato.valor\n",
        "    contratos_return.append(menor_contrato)\n",
        "    for mes in range(c.num_meses):\n",
        "        if mes == c.num_meses-1:\n",
        "            contratoPeriodo = get_menor_contrato_periodo(c, mes, maxPeriodo - 1)\n",
        "        else:\n",
        "            contratoPeriodo = get_menor_contrato_periodo(c, mes+1, maxPeriodo - 1)\n",
        "\n",
        "        contratoMes = get_menor_contrato_periodo(c,0,mes)\n",
        "        \n",
        "        if contratoPeriodo.fornecedor == contratoMes.fornecedor:\n",
        "            if contratoPeriodo.valor+contratoMes.valor<valorTotal:\n",
        "                valorTotal = contratoPeriodo.valor+contratoMes.valor\n",
        "                contratos_return.clear\n",
        "                contratos_return.append(contratoPeriodo)\n",
        "                contratos_return.append(contratoMes)\n",
        "        else:\n",
        "            if contratoPeriodo.valor+contratoMes.valor+c.taxa_mudanca<valorTotal:\n",
        "                valorTotal = contratoPeriodo.valor+contratoMes.valor+c.taxa_mudanca\n",
        "                contratos_return.clear\n",
        "                contratos_return.append(contratoPeriodo)\n",
        "                contratos_return.append(contratoMes)\n",
        "    \n",
        "    return contratos_return\n",
        "\n",
        "menor_contrato_chamada = get_menores_contratos_periodo_completo(c)\n",
        "print(menor_contrato_chamada)\n"
      ]
    },
    {
      "cell_type": "code",
      "execution_count": null,
      "metadata": {},
      "outputs": [],
      "source": []
    }
  ],
  "metadata": {
    "kernelspec": {
      "display_name": "Python 3",
      "language": "python",
      "name": "python3"
    },
    "language_info": {
      "codemirror_mode": {
        "name": "ipython",
        "version": 3
      },
      "file_extension": ".py",
      "mimetype": "text/x-python",
      "name": "python",
      "nbconvert_exporter": "python",
      "pygments_lexer": "ipython3",
      "version": "3.7.6-final"
    },
    "colab": {
      "name": "Trabalho de CANA - Equipe 3.ipynb",
      "provenance": [],
      "collapsed_sections": []
    }
  },
  "nbformat": 4,
  "nbformat_minor": 0
}