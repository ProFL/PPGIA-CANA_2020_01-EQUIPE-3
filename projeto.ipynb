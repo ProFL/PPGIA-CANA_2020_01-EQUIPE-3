{
  "cells": [
    {
      "cell_type": "markdown",
      "metadata": {},
      "source": [
        "### d) Complexidade: Θ(m)\n",
        "### f) Complexidade Θ(n^2 * m)"
      ]
    },
    {
      "cell_type": "code",
      "metadata": {
        "id": "UKKsrz1eLkHO",
        "colab_type": "code",
        "colab": {}
      },
      "source": [
        "from math import inf\n",
        "from typing import List, Tuple\n",
        "\n",
        "\n",
        "class Contratos:\n",
        "  def __init__(self, array: List[List[List[float]]], taxa: float):\n",
        "    self._taxa = taxa\n",
        "    self._contratos = array\n",
        "\n",
        "  @property\n",
        "  def taxa(self) -> float:\n",
        "    return self._taxa\n",
        "\n",
        "  @property\n",
        "  def num_fornecedores(self):\n",
        "    return len(self._contratos)\n",
        "  \n",
        "  def get_contrato(self, fornecedor: int, periodo_inicial: int, periodo_final: int) -> float:\n",
        "    return self._contratos[fornecedor][periodo_inicial][periodo_final]\n",
        "\n",
        "  def get_contratos_periodo(self, periodo_inicial: int, periodo_final: int) -> List[float]:\n",
        "    contratos = []\n",
        "    for fornecedor in range(self.num_fornecedores):\n",
        "      contratos.append(self.get_contrato(fornecedor, periodo_inicial, periodo_final))\n",
        "    return contracts\n",
        "\n",
        "  # d)\n",
        "  def menor_contrato_periodo(self, periodo_inicial: int, periodo_final: int) -> Tuple[int, float]:\n",
        "    fornecedor: int = len(self._contratos)\n",
        "    menor_contrato: float = inf\n",
        "    for f_fornecedor in range(self.num_fornecedores):\n",
        "      contrato_atual = self.get_contrato(f_fornecedor, periodo_inicial, periodo_final)\n",
        "      if contrato_atual < menor_contrato:\n",
        "        fornecedor, menor_contrato = f_fornecedor, contrato_atual\n",
        "    return fornecedor, menor_contrato\n",
        "\n",
        "  # f)\n",
        "  @property\n",
        "  def menor_contrato(self) -> Tuple[int, int, int, float]:\n",
        "    fim: int = -1\n",
        "    inicio: int = -1\n",
        "    fornecedor: int = -1\n",
        "    menor_contrato: float = inf\n",
        "\n",
        "    for i_ini in range(len(self._contratos[0])):\n",
        "      for j_fim in range(len(self._contratos[0][0])):\n",
        "        f_forn, menor_contrato_periodo = self.menor_contrato_periodo(i_ini, j_fim)\n",
        "        if menor_contrato_periodo < menor_contrato:\n",
        "          fornecedor, inicio, fim, menor_contrato = f_forn, i_ini, j_fim, menor_contrato_periodo\n",
        "    return fornecedor, inicio, fim, menor_contrato"
      ],
      "execution_count": 36,
      "outputs": []
    },
    {
      "cell_type": "markdown",
      "metadata": {},
      "source": [
        "### a) Leitura do arquivo de entrada em estruturas de dados apropriadas"
      ]
    },
    {
      "cell_type": "code",
      "metadata": {
        "id": "Wmsy9U79Wkyh",
        "colab_type": "code",
        "colab": {
          "base_uri": "https://localhost:8080/",
          "height": 102
        },
        "outputId": "3c127eb0-29f6-4e81-9d6e-f70c49f31254"
      },
      "source": [
        "c: Contratos\n",
        "\n",
        "with open('entrada.txt', 'r') as arquivo:\n",
        "  # Lendo a primeira linha do arquivo texto\n",
        "  n, m, t = arquivo.readline().split()\n",
        "\n",
        "  t_taxa = float(t) # Valor da taxa de mudança de fornecedor\n",
        "  n_meses = int(n) # Quantidade de meses\n",
        "  m_fornecedores = int(m) # Quantidade de fornecedores\n",
        "\n",
        "  print(f'Período completo em meses (n): {n}\\nFornecedores (m): {m}\\nTaxa de Mudança (t): {t}')\n",
        "\n",
        "  # Lendo o restante das linhas do arquivo e gerando a matriz base\n",
        "  A = [[[inf for k in range(n_meses)] for j in range(n_meses)] for i in range(m_fornecedores)]\n",
        "\n",
        "  print(f'({len(A)}, {len(A[0])}, {len(A[0][0])})')\n",
        "  print(f'Tamanho da estrutura de dados: {len(A) * len(A[0]) * len(A[0][0])}')\n",
        "\n",
        "  for linha in arquivo:\n",
        "      dados = linha.split(' ');\n",
        "      i_fornecedor, j_inicio, k_fim = map(lambda i: int(i), dados[:-1])\n",
        "      A[i_fornecedor - 1][j_inicio - 1][k_fim - 1] = float(dados[-1])\n",
        "  \n",
        "  c = Contratos(A, t_taxa)"
      ],
      "execution_count": 37,
      "outputs": [
        {
          "output_type": "stream",
          "name": "stdout",
          "text": "Período completo em meses (n): 120\nFornecedores (m): 100\nTaxa de Mudança (t): 100.0\n(100, 120, 120)\nTamanho da estrutura de dados: 1440000\n"
        }
      ]
    },
    {
      "cell_type": "markdown",
      "metadata": {},
      "source": [
        "### b) Complexidade da estrutura de dados = Θ(m * n^2)\n",
        "### c) Criar uma função eficiente que retorna o contrato individual, referente ao período completo de n meses, que possui o menor valor"
      ]
    },
    {
      "cell_type": "code",
      "metadata": {
        "id": "eB3AgiuCLkHX",
        "colab_type": "code",
        "colab": {
          "base_uri": "https://localhost:8080/",
          "height": 34
        },
        "outputId": "ff5b9605-5e10-4b94-df2b-fe26eef59856"
      },
      "source": [
        "forn, valor = c.menor_contrato_periodo(0, n_meses - 1)\n",
        "print(f'O fornecedor {forn + 1} oferece o menor contrato do período completo, que custa: {valor:.2f}')\n"
      ],
      "execution_count": 38,
      "outputs": [
        {
          "output_type": "stream",
          "name": "stdout",
          "text": "O fornecedor 61 oferece o menor contrato do período completo, que custa: 687.10\n"
        }
      ]
    },
    {
      "cell_type": "markdown",
      "metadata": {},
      "source": [
        "### e) Criar uma função eficiente que retorna o contrato individual de menor valor do mercado, independente do período a que se refere"
      ]
    },
    {
      "cell_type": "code",
      "metadata": {
        "id": "0W2ckkQ8fmPB",
        "colab_type": "code",
        "colab": {
          "base_uri": "https://localhost:8080/",
          "height": 34
        },
        "outputId": "6cf796b0-6138-42c7-aef2-c01f48d70574"
      },
      "source": [
        "forn, ini, fim, val = c.menor_contrato\n",
        "print(f'O menor contrato é fornecido por {forn + 1}, do período de {ini} a {fim} pelo valor de {val:.2f}')"
      ],
      "execution_count": 39,
      "outputs": [
        {
          "output_type": "stream",
          "name": "stdout",
          "text": "O menor contrato é fornecido por 96, do período de 3 a 3 pelo valor de 10.00\n"
        }
      ]
    }
  ],
  "metadata": {
    "kernelspec": {
      "display_name": "Python 3.8.1 64-bit",
      "language": "python",
      "name": "python38164bitdbad2368954b4b23893cfcf8cdc4ce91"
    },
    "language_info": {
      "codemirror_mode": {
        "name": "ipython",
        "version": 3
      },
      "file_extension": ".py",
      "mimetype": "text/x-python",
      "name": "python",
      "nbconvert_exporter": "python",
      "pygments_lexer": "ipython3",
      "version": "3.8.2-final"
    },
    "colab": {
      "name": "Trabalho de CANA - Equipe 3.ipynb",
      "provenance": [],
      "collapsed_sections": []
    }
  },
  "nbformat": 4,
  "nbformat_minor": 0
}