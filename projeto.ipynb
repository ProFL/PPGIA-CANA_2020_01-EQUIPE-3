{
  "cells": [
    {
      "cell_type": "markdown",
      "metadata": {},
      "source": [
        "### a) Leitura do arquivo de entrada em estruturas de dados apropriadas"
      ]
    },
    {
      "cell_type": "code",
      "metadata": {
        "id": "Wmsy9U79Wkyh",
        "colab_type": "code",
        "colab": {
          "base_uri": "https://localhost:8080/",
          "height": 102
        },
        "outputId": "3c127eb0-29f6-4e81-9d6e-f70c49f31254"
      },
      "source": [
        "from math import inf\n",
        "\n",
        "from contratos import Contratos\n",
        "\n",
        "\n",
        "def ler_contratos_de_arquivo(caminho: str) -> Contratos:\n",
        "  with open('entrada.txt', 'r') as arquivo:\n",
        "    # Lendo a primeira linha do arquivo texto\n",
        "    n, m, t = arquivo.readline().split()\n",
        "\n",
        "    t_taxa = float(t) # Valor da taxa de mudança de fornecedor\n",
        "    n_meses = int(n) # Quantidade de meses\n",
        "    m_fornecedores = int(m) # Quantidade de fornecedores\n",
        "\n",
        "    print(f'(n, m, t) = ({n_meses}, {m_fornecedores}, {t_taxa:.2f})')\n",
        "    print()\n",
        "\n",
        "    # Lendo o restante das linhas do arquivo e gerando a matriz base\n",
        "    # m * n * n\n",
        "    A = [[[inf for k in range(n_meses)] for j in range(n_meses)] for i in range(m_fornecedores)]\n",
        "\n",
        "    print(f'Contratos armazenados em matriz: {len(A)}x{len(A[0])}x{len(A[0][0])}')\n",
        "    print(f'Tamanho total da matriz: {len(A) * len(A[0]) * len(A[0][0])}')\n",
        "\n",
        "    for linha in arquivo:\n",
        "        dados = linha.split(' ');\n",
        "        i_fornecedor, j_inicio, k_fim = map(lambda i: int(i), dados[:-1])\n",
        "        A[i_fornecedor - 1][j_inicio - 1][k_fim - 1] = float(dados[-1])\n",
        "    \n",
        "    return Contratos(A, t_taxa)\n",
        "\n",
        "c = ler_contratos_de_arquivo('entrada.txt')"
      ],
      "execution_count": 35,
      "outputs": [
        {
          "output_type": "stream",
          "name": "stdout",
          "text": "(n, m, t) = (120, 100, 100.00)\n\nContratos armazenados em matriz: 100x120x120\nTamanho total da matriz: 1440000\n"
        }
      ]
    },
    {
      "cell_type": "markdown",
      "metadata": {},
      "source": [
        "**b)** Complexidade da estrutura de dados = Θ(m * n^2)\n",
        "\n",
        "### c) Criar uma função eficiente que retorna o contrato individual, referente ao período completo de n meses, que possui o menor valor"
      ]
    },
    {
      "cell_type": "code",
      "metadata": {
        "id": "eB3AgiuCLkHX",
        "colab_type": "code",
        "colab": {
          "base_uri": "https://localhost:8080/",
          "height": 34
        },
        "outputId": "ff5b9605-5e10-4b94-df2b-fe26eef59856"
      },
      "source": [
        "from contratos import Contrato\n",
        "\n",
        "\n",
        "def get_menor_contrato_periodo(c: Contratos, mes_inicial: int, mes_final: int) -> Contrato:\n",
        "    menor_contrato = Contrato(c.num_fornecedores, c.num_meses, c.num_meses, inf)\n",
        "    for forn in range(c.num_fornecedores):\n",
        "        contrato = c.get_contrato(forn, mes_inicial, mes_final)\n",
        "        if contrato.valor < menor_contrato.valor:\n",
        "            menor_contrato = contrato\n",
        "    return menor_contrato\n",
        "\n",
        "menor_contrato_periodo_completo = get_menor_contrato_periodo(c, 0, c.num_meses - 1)\n",
        "print(f'O fornecedor {menor_contrato_periodo_completo.fornecedor + 1} oferece o menor contrato do período completo, que custa: {menor_contrato_periodo_completo.valor:.2f}')\n"
      ],
      "execution_count": 36,
      "outputs": [
        {
          "output_type": "stream",
          "name": "stdout",
          "text": "O fornecedor 61 oferece o menor contrato do período completo, que custa: 687.10\n"
        }
      ]
    },
    {
      "cell_type": "markdown",
      "metadata": {},
      "source": [
        "**d)** Complexidade de (c): Θ(m)\n",
        "\n",
        "### e) Criar uma função eficiente que retorna o contrato individual de menor valor do mercado, independente do período a que se refere"
      ]
    },
    {
      "cell_type": "code",
      "metadata": {
        "id": "0W2ckkQ8fmPB",
        "colab_type": "code",
        "colab": {
          "base_uri": "https://localhost:8080/",
          "height": 34
        },
        "outputId": "6cf796b0-6138-42c7-aef2-c01f48d70574"
      },
      "source": [
        "def get_menor_contrato(c: Contratos) -> Contrato:\n",
        "    min_contrato = Contrato(c.num_fornecedores, c.num_meses, c.num_meses, inf)\n",
        "    for mes in range(c.num_meses):\n",
        "        contrato = get_menor_contrato_periodo(c, mes, mes)\n",
        "        if contrato.valor < min_contrato.valor:\n",
        "            min_contrato = contrato\n",
        "    return min_contrato\n",
        "\n",
        "menor_contrato = get_menor_contrato(c)\n",
        "print(f'O menor contrato é fornecido por {menor_contrato.fornecedor + 1}, do período ({menor_contrato.mes_inicio + 1}, {menor_contrato.mes_fim + 1}) pelo valor de {menor_contrato.valor:.2f}')"
      ],
      "execution_count": 37,
      "outputs": [
        {
          "output_type": "stream",
          "name": "stdout",
          "text": "O menor contrato é fornecido por 96, do período (4, 4) pelo valor de 10.00\n"
        }
      ]
    },
    {
      "cell_type": "markdown",
      "metadata": {},
      "source": [
        "**f)** Complexidade Θ(m * n)"
      ]
    },
    {
      "cell_type": "markdown",
      "metadata": {},
      "source": [
        "g)"
      ]
    },
    {
      "cell_type": "code",
      "execution_count": 38,
      "metadata": {},
      "outputs": [
        {
          "output_type": "stream",
          "name": "stdout",
          "text": "Para o período completo de 120 meses o menor contrato é: Contrato(fornecedor=60, mes_inicio=0, mes_fim=119, valor=687.1)\n"
        }
      ],
      "source": [
        "def menor_contrato_periodo_completo(c: Contratos, x_num_meses: int) -> Contrato:\n",
        "    menor_contrato = Contrato(c.num_fornecedores, c.num_meses, c.num_meses, inf)\n",
        "\n",
        "    periodo_completo = x_num_meses - 1\n",
        "    for inicio in range(0, c.num_meses - periodo_completo):\n",
        "        fim = inicio + periodo_completo\n",
        "        contrato = get_menor_contrato_periodo(c, inicio, fim)\n",
        "        if contrato.valor < menor_contrato.valor:\n",
        "            menor_contrato = contrato\n",
        "    return menor_contrato\n",
        "\n",
        "x_periodo = c.num_meses\n",
        "menor_contrato = menor_contrato_periodo_completo(c, x_periodo)\n",
        "print(f'Para o período completo de {x_periodo} meses o menor contrato é: {menor_contrato}')\n"
      ]
    },
    {
      "cell_type": "code",
      "execution_count": 39,
      "metadata": {},
      "outputs": [
        {
          "output_type": "stream",
          "name": "stdout",
          "text": "Para o período completo de 4 meses o menor contrato é: Contrato(fornecedor=12, mes_inicio=43, mes_fim=46, valor=20.2)\n"
        }
      ],
      "source": [
        "x_periodo = 4\n",
        "menor_contrato = menor_contrato_periodo_completo(c, x_periodo)\n",
        "print(f'Para o período completo de {x_periodo} meses o menor contrato é: {menor_contrato}')\n"
      ]
    },
    {
      "cell_type": "code",
      "execution_count": 64,
      "metadata": {},
      "outputs": [
        {
          "output_type": "stream",
          "name": "stdout",
          "text": "[Contrato(fornecedor=89, mes_inicio=0, mes_fim=0, valor=10.2), Contrato(fornecedor=58, mes_inicio=1, mes_fim=1, valor=10.1), Contrato(fornecedor=46, mes_inicio=2, mes_fim=2, valor=10.1), Contrato(fornecedor=95, mes_inicio=3, mes_fim=3, valor=10.0), Contrato(fornecedor=31, mes_inicio=4, mes_fim=4, valor=10.1), Contrato(fornecedor=80, mes_inicio=5, mes_fim=5, valor=10.0), Contrato(fornecedor=61, mes_inicio=6, mes_fim=6, valor=10.1), Contrato(fornecedor=31, mes_inicio=7, mes_fim=7, valor=10.0), Contrato(fornecedor=72, mes_inicio=8, mes_fim=8, valor=10.0), Contrato(fornecedor=3, mes_inicio=9, mes_fim=9, valor=10.1), Contrato(fornecedor=99, mes_inicio=10, mes_fim=10, valor=10.1), Contrato(fornecedor=56, mes_inicio=11, mes_fim=11, valor=10.1), Contrato(fornecedor=71, mes_inicio=12, mes_fim=12, valor=10.1), Contrato(fornecedor=63, mes_inicio=13, mes_fim=13, valor=10.0), Contrato(fornecedor=17, mes_inicio=14, mes_fim=14, valor=10.0), Contrato(fornecedor=17, mes_inicio=15, mes_fim=15, valor=10.1), Contrato(fornecedor=4, mes_inicio=16, mes_fim=16, valor=10.2), Contrato(fornecedor=93, mes_inicio=17, mes_fim=17, valor=10.1), Contrato(fornecedor=18, mes_inicio=18, mes_fim=18, valor=10.0), Contrato(fornecedor=27, mes_inicio=19, mes_fim=19, valor=10.0), Contrato(fornecedor=21, mes_inicio=20, mes_fim=20, valor=10.0), Contrato(fornecedor=39, mes_inicio=21, mes_fim=21, valor=10.3), Contrato(fornecedor=51, mes_inicio=22, mes_fim=22, valor=10.0), Contrato(fornecedor=8, mes_inicio=23, mes_fim=23, valor=10.0), Contrato(fornecedor=42, mes_inicio=24, mes_fim=24, valor=10.6), Contrato(fornecedor=38, mes_inicio=25, mes_fim=25, valor=10.0), Contrato(fornecedor=13, mes_inicio=26, mes_fim=26, valor=10.0), Contrato(fornecedor=21, mes_inicio=27, mes_fim=27, valor=10.0), Contrato(fornecedor=59, mes_inicio=28, mes_fim=28, valor=10.2), Contrato(fornecedor=8, mes_inicio=29, mes_fim=29, valor=10.0), Contrato(fornecedor=54, mes_inicio=30, mes_fim=30, valor=10.0), Contrato(fornecedor=58, mes_inicio=31, mes_fim=31, valor=10.2), Contrato(fornecedor=69, mes_inicio=32, mes_fim=32, valor=10.1), Contrato(fornecedor=40, mes_inicio=33, mes_fim=33, valor=10.2), Contrato(fornecedor=83, mes_inicio=34, mes_fim=34, valor=10.1), Contrato(fornecedor=38, mes_inicio=35, mes_fim=35, valor=10.0), Contrato(fornecedor=7, mes_inicio=36, mes_fim=36, valor=10.2), Contrato(fornecedor=79, mes_inicio=37, mes_fim=37, valor=10.2), Contrato(fornecedor=35, mes_inicio=38, mes_fim=38, valor=10.2), Contrato(fornecedor=56, mes_inicio=39, mes_fim=39, valor=10.1), Contrato(fornecedor=72, mes_inicio=40, mes_fim=40, valor=10.4), Contrato(fornecedor=28, mes_inicio=41, mes_fim=41, valor=10.1), Contrato(fornecedor=63, mes_inicio=42, mes_fim=42, valor=10.1), Contrato(fornecedor=10, mes_inicio=43, mes_fim=43, valor=10.2), Contrato(fornecedor=21, mes_inicio=44, mes_fim=44, valor=10.1), Contrato(fornecedor=42, mes_inicio=45, mes_fim=45, valor=10.2), Contrato(fornecedor=71, mes_inicio=46, mes_fim=46, valor=10.1), Contrato(fornecedor=51, mes_inicio=47, mes_fim=47, valor=10.2), Contrato(fornecedor=17, mes_inicio=48, mes_fim=48, valor=10.2), Contrato(fornecedor=60, mes_inicio=49, mes_fim=49, valor=10.4), Contrato(fornecedor=14, mes_inicio=50, mes_fim=50, valor=10.0), Contrato(fornecedor=17, mes_inicio=51, mes_fim=51, valor=10.2), Contrato(fornecedor=7, mes_inicio=52, mes_fim=52, valor=10.0), Contrato(fornecedor=70, mes_inicio=53, mes_fim=53, valor=10.2), Contrato(fornecedor=61, mes_inicio=54, mes_fim=54, valor=10.2), Contrato(fornecedor=16, mes_inicio=55, mes_fim=55, valor=10.1), Contrato(fornecedor=68, mes_inicio=56, mes_fim=56, valor=10.3), Contrato(fornecedor=10, mes_inicio=57, mes_fim=57, valor=10.2), Contrato(fornecedor=39, mes_inicio=58, mes_fim=58, valor=10.0), Contrato(fornecedor=93, mes_inicio=59, mes_fim=59, valor=10.2), Contrato(fornecedor=41, mes_inicio=60, mes_fim=60, valor=10.0), Contrato(fornecedor=4, mes_inicio=61, mes_fim=61, valor=10.3), Contrato(fornecedor=81, mes_inicio=62, mes_fim=62, valor=10.0), Contrato(fornecedor=44, mes_inicio=63, mes_fim=63, valor=10.0), Contrato(fornecedor=50, mes_inicio=64, mes_fim=64, valor=10.2), Contrato(fornecedor=98, mes_inicio=65, mes_fim=65, valor=10.1), Contrato(fornecedor=21, mes_inicio=66, mes_fim=66, valor=10.0), Contrato(fornecedor=15, mes_inicio=67, mes_fim=67, valor=10.0), Contrato(fornecedor=40, mes_inicio=68, mes_fim=68, valor=10.1), Contrato(fornecedor=10, mes_inicio=69, mes_fim=69, valor=10.0), Contrato(fornecedor=72, mes_inicio=70, mes_fim=70, valor=10.4), Contrato(fornecedor=72, mes_inicio=71, mes_fim=71, valor=10.1), Contrato(fornecedor=5, mes_inicio=72, mes_fim=72, valor=10.1), Contrato(fornecedor=14, mes_inicio=73, mes_fim=73, valor=10.0), Contrato(fornecedor=14, mes_inicio=74, mes_fim=74, valor=10.0), Contrato(fornecedor=29, mes_inicio=75, mes_fim=75, valor=10.0), Contrato(fornecedor=80, mes_inicio=76, mes_fim=76, valor=10.1), Contrato(fornecedor=58, mes_inicio=77, mes_fim=77, valor=10.0), Contrato(fornecedor=23, mes_inicio=78, mes_fim=78, valor=10.2), Contrato(fornecedor=60, mes_inicio=79, mes_fim=79, valor=10.1), Contrato(fornecedor=25, mes_inicio=80, mes_fim=80, valor=10.0), Contrato(fornecedor=98, mes_inicio=81, mes_fim=81, valor=10.0), Contrato(fornecedor=96, mes_inicio=82, mes_fim=82, valor=10.2), Contrato(fornecedor=67, mes_inicio=83, mes_fim=83, valor=10.2), Contrato(fornecedor=22, mes_inicio=84, mes_fim=84, valor=10.1), Contrato(fornecedor=42, mes_inicio=85, mes_fim=85, valor=10.0), Contrato(fornecedor=17, mes_inicio=86, mes_fim=86, valor=10.1), Contrato(fornecedor=59, mes_inicio=87, mes_fim=87, valor=10.0), Contrato(fornecedor=94, mes_inicio=88, mes_fim=88, valor=10.1), Contrato(fornecedor=42, mes_inicio=89, mes_fim=89, valor=10.2), Contrato(fornecedor=24, mes_inicio=90, mes_fim=90, valor=10.1), Contrato(fornecedor=2, mes_inicio=91, mes_fim=91, valor=10.1), Contrato(fornecedor=40, mes_inicio=92, mes_fim=92, valor=10.0), Contrato(fornecedor=76, mes_inicio=93, mes_fim=93, valor=10.2), Contrato(fornecedor=0, mes_inicio=94, mes_fim=94, valor=10.2), Contrato(fornecedor=33, mes_inicio=95, mes_fim=95, valor=10.1), Contrato(fornecedor=34, mes_inicio=96, mes_fim=96, valor=10.2), Contrato(fornecedor=71, mes_inicio=97, mes_fim=97, valor=10.3), Contrato(fornecedor=92, mes_inicio=98, mes_fim=98, valor=10.0), Contrato(fornecedor=7, mes_inicio=99, mes_fim=99, valor=10.0), Contrato(fornecedor=28, mes_inicio=100, mes_fim=100, valor=10.0), Contrato(fornecedor=77, mes_inicio=101, mes_fim=101, valor=10.1), Contrato(fornecedor=33, mes_inicio=102, mes_fim=102, valor=10.1), Contrato(fornecedor=4, mes_inicio=103, mes_fim=103, valor=10.1), Contrato(fornecedor=23, mes_inicio=104, mes_fim=104, valor=10.2), Contrato(fornecedor=40, mes_inicio=105, mes_fim=105, valor=10.1), Contrato(fornecedor=59, mes_inicio=106, mes_fim=106, valor=10.0), Contrato(fornecedor=4, mes_inicio=107, mes_fim=107, valor=10.1), Contrato(fornecedor=56, mes_inicio=108, mes_fim=108, valor=10.1), Contrato(fornecedor=10, mes_inicio=109, mes_fim=109, valor=10.0), Contrato(fornecedor=11, mes_inicio=110, mes_fim=110, valor=10.0), Contrato(fornecedor=62, mes_inicio=111, mes_fim=111, valor=10.0), Contrato(fornecedor=49, mes_inicio=112, mes_fim=112, valor=10.0), Contrato(fornecedor=4, mes_inicio=113, mes_fim=113, valor=10.1), Contrato(fornecedor=13, mes_inicio=114, mes_fim=114, valor=10.2), Contrato(fornecedor=28, mes_inicio=115, mes_fim=115, valor=10.0), Contrato(fornecedor=23, mes_inicio=116, mes_fim=116, valor=10.3), Contrato(fornecedor=96, mes_inicio=117, mes_fim=117, valor=10.0), Contrato(fornecedor=52, mes_inicio=118, mes_fim=118, valor=10.1), Contrato(fornecedor=60, mes_inicio=119, mes_fim=119, valor=10.3)]\n"
        }
      ],
      "source": [
        "from contratos import Contrato\n",
        "\n",
        "\n",
        "def get_menores_contratos_periodo_completo(c: Contratos):\n",
        "    contratos_return = []\n",
        "    periodo_completo = c.num_meses - 1\n",
        "    menor_contrato = Contrato(c.num_fornecedores, c.num_meses, c.num_meses, inf)\n",
        "    for mes in range(c.num_meses):\n",
        "        contrato = get_menor_contrato_periodo(c, mes, mes)\n",
        "        if contrato.valor < menor_contrato.valor:\n",
        "            contratos_return.append(contrato)\n",
        "           \n",
        "    return contratos_return\n",
        "\n",
        "menor_contrato_periodo_completo = get_menores_contratos_periodo_completo(c)\n",
        "print(menor_contrato_periodo_completo)\n"
      ]
    },
    {
      "cell_type": "code",
      "execution_count": null,
      "metadata": {},
      "outputs": [],
      "source": []
    }
  ],
  "metadata": {
    "kernelspec": {
      "display_name": "Python 3",
      "language": "python",
      "name": "python3"
    },
    "language_info": {
      "codemirror_mode": {
        "name": "ipython",
        "version": 3
      },
      "file_extension": ".py",
      "mimetype": "text/x-python",
      "name": "python",
      "nbconvert_exporter": "python",
      "pygments_lexer": "ipython3",
      "version": "3.7.6-final"
    },
    "colab": {
      "name": "Trabalho de CANA - Equipe 3.ipynb",
      "provenance": [],
      "collapsed_sections": []
    }
  },
  "nbformat": 4,
  "nbformat_minor": 0
}