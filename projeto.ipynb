{
  "cells": [
    {
      "cell_type": "markdown",
      "metadata": {},
      "source": [
        "### a) Leitura do arquivo de entrada em estruturas de dados apropriadas"
      ]
    },
    {
      "cell_type": "code",
      "metadata": {
        "id": "Wmsy9U79Wkyh",
        "colab_type": "code",
        "colab": {
          "base_uri": "https://localhost:8080/",
          "height": 102
        },
        "outputId": "3c127eb0-29f6-4e81-9d6e-f70c49f31254"
      },
      "source": [
        "from math import inf\n",
        "\n",
        "from contratos import Contratos\n",
        "\n",
        "\n",
        "def ler_contratos_de_arquivo(caminho: str) -> Contratos:\n",
        "  with open('entrada.txt', 'r') as arquivo:\n",
        "    # Lendo a primeira linha do arquivo texto\n",
        "    n, m, t = arquivo.readline().split()\n",
        "\n",
        "    t_taxa = float(t) # Valor da taxa de mudança de fornecedor\n",
        "    n_meses = int(n) # Quantidade de meses\n",
        "    m_fornecedores = int(m) # Quantidade de fornecedores\n",
        "\n",
        "    print(f'(n, m, t) = ({n_meses}, {m_fornecedores}, {t_taxa:.2f})')\n",
        "    print()\n",
        "\n",
        "    # Lendo o restante das linhas do arquivo e gerando a matriz base\n",
        "    # m * n * n\n",
        "    A = [[[inf for k in range(n_meses)] for j in range(n_meses)] for i in range(m_fornecedores)]\n",
        "\n",
        "    print(f'Contratos armazenados em matriz: {len(A)}x{len(A[0])}x{len(A[0][0])}')\n",
        "    print(f'Tamanho total da matriz: {len(A) * len(A[0]) * len(A[0][0])}')\n",
        "\n",
        "    for linha in arquivo:\n",
        "        dados = linha.split(' ');\n",
        "        i_fornecedor, j_inicio, k_fim = map(lambda i: int(i), dados[:-1])\n",
        "        A[i_fornecedor - 1][j_inicio - 1][k_fim - 1] = float(dados[-1])\n",
        "    \n",
        "    return Contratos(A, t_taxa)\n",
        "\n",
        "c = ler_contratos_de_arquivo('entrada.txt')"
      ],
      "execution_count": 11,
      "outputs": [
        {
          "output_type": "stream",
          "name": "stdout",
          "text": "(n, m, t) = (120, 100, 100.00)\n\nContratos armazenados em matriz: 100x120x120\nTamanho total da matriz: 1440000\n"
        }
      ]
    },
    {
      "cell_type": "markdown",
      "metadata": {},
      "source": [
        "**b)** Complexidade da estrutura de dados = $Θ(m * n^2)$\n",
        "\n",
        "### c) Criar uma função eficiente que retorna o contrato individual, referente ao período completo de n meses, que possui o menor valor"
      ]
    },
    {
      "cell_type": "code",
      "metadata": {
        "id": "eB3AgiuCLkHX",
        "colab_type": "code",
        "colab": {
          "base_uri": "https://localhost:8080/",
          "height": 34
        },
        "outputId": "ff5b9605-5e10-4b94-df2b-fe26eef59856"
      },
      "source": [
        "from contratos import Contrato\n",
        "\n",
        "\n",
        "def get_menor_contrato_periodo(c: Contratos, mes_inicial: int, mes_final: int) -> Contrato:\n",
        "    menor_contrato = Contrato(c.num_fornecedores, c.num_meses, c.num_meses, inf)\n",
        "    for forn in range(c.num_fornecedores):\n",
        "        contrato = c.get_contrato(forn, mes_inicial, mes_final)\n",
        "        if contrato.valor < menor_contrato.valor:\n",
        "            menor_contrato = contrato\n",
        "    return menor_contrato\n",
        "\n",
        "menor_contrato_periodo_completo = get_menor_contrato_periodo(c, 0, c.num_meses - 1)\n",
        "print(f'Menor contrato de período completo: {menor_contrato_periodo_completo}')\n"
      ],
      "execution_count": 12,
      "outputs": [
        {
          "output_type": "stream",
          "name": "stdout",
          "text": "Menor contrato de período completo: Contrato(fornecedor=61, mês inicial=1, mês final=120, valor=687.10)\n"
        }
      ]
    },
    {
      "cell_type": "markdown",
      "metadata": {},
      "source": [
        "**d)** Complexidade de (c): $Θ(m)$\n",
        "\n",
        "### e) Criar uma função eficiente que retorna o contrato individual de menor valor do mercado, independente do período a que se refere\n",
        "\n",
        "=resolvido como instância de pior caso do item g\n",
        "\n",
        "**f)** =complexidade de pior caso do item h\n",
        "\n",
        "### g) Criar uma função eficiente que retorna o contrato individual, referente ao período completo de x meses (passado como parâmetro, x ≤ n), que possui o menor valor"
      ]
    },
    {
      "cell_type": "code",
      "execution_count": 13,
      "metadata": {},
      "outputs": [
        {
          "output_type": "stream",
          "name": "stdout",
          "text": "O menor contrato de periodo completo de 120 meses é: Contrato(fornecedor=61, mês inicial=1, mês final=120, valor=687.10)\n"
        }
      ],
      "source": [
        "def menor_contrato_periodo_completo(c: Contratos, x_num_meses: int) -> Contrato:\n",
        "    menor_contrato = Contrato(c.num_fornecedores, c.num_meses, c.num_meses, inf)\n",
        "\n",
        "    offset_periodo = x_num_meses - 1\n",
        "    for inicio in range(c.num_meses - offset_periodo):\n",
        "        fim = inicio + offset_periodo\n",
        "        contrato = get_menor_contrato_periodo(c, inicio, fim)\n",
        "        if contrato.valor < menor_contrato.valor:\n",
        "            menor_contrato = contrato\n",
        "    return menor_contrato\n",
        "\n",
        "x_periodo = c.num_meses\n",
        "menor_contrato = menor_contrato_periodo_completo(c, x_periodo)\n",
        "print(f'O menor contrato de periodo completo de {x_periodo} meses é: {menor_contrato}')"
      ]
    },
    {
      "cell_type": "markdown",
      "metadata": {},
      "source": [
        "Instância que responde ao item e:"
      ]
    },
    {
      "cell_type": "code",
      "execution_count": 14,
      "metadata": {},
      "outputs": [
        {
          "output_type": "stream",
          "name": "stdout",
          "text": "O menor contrato de periodo completo de 1 meses é: Contrato(fornecedor=96, mês inicial=4, mês final=4, valor=10.00)\n"
        }
      ],
      "source": [
        "x_periodo = 1\n",
        "menor_contrato = menor_contrato_periodo_completo(c, x_periodo)\n",
        "print(f'O menor contrato de periodo completo de {x_periodo} meses é: {menor_contrato}')"
      ]
    },
    {
      "cell_type": "markdown",
      "metadata": {},
      "source": [
        "**h)**\n",
        "\n",
        "Melhor caso (todo o período): $Θ(m)$\n",
        "\n",
        "Pior caso (período de 1 mês): $Θ(m * n)$\n",
        "\n",
        "Caso médio: $O(m * n)$"
      ]
    },
    {
      "cell_type": "markdown",
      "metadata": {},
      "source": [
        "### i) Criar um método que sugere quais contratos de energia devem ser contratados para os próximos n meses"
      ]
    },
    {
      "cell_type": "code",
      "execution_count": 15,
      "metadata": {},
      "outputs": [
        {
          "output_type": "stream",
          "name": "stdout",
          "text": "Selecione os seguintes contratos para este período de 120 meses: [Contrato(fornecedor=61, mês inicial=1, mês final=120, valor=687.10)]\n"
        }
      ],
      "source": [
        "def menores_contratos_periodo_completo(c: Contratos) -> list:\n",
        "    menor_contrato = menor_contrato_periodo_completo(c, 1)                      # Θ(m * n)\n",
        "    menor_contrato_completo = menor_contrato_periodo_completo(c, c.num_meses)   # Θ(m)\n",
        "    if menor_contrato.valor * c.num_meses > menor_contrato_completo.valor:\n",
        "        return [menor_contrato_completo]                                        # Melhor caso: Θ(m * n)\n",
        "\n",
        "    inicio = 0\n",
        "    taxa_mud = c.taxa_mudanca\n",
        "    intervalo = 1\n",
        "    menor_total = menor_contrato.valor\n",
        "    menores_contratos = [menor_contrato_completo]\n",
        "    for inicio in range(c.num_meses, intervalo):                                # f_1 <- Θ(n / i)\n",
        "        fornecedor = -1\n",
        "        valor_total = 0.0\n",
        "        solucao_atual = []\n",
        "        print(f'Início {inicio}:')                                              # Sn = n * (a1 + an) / 2\n",
        "        for i in range(inicio, c.num_meses, intervalo):                         # f_2 <- O(f_1 * (Sum(i, ..., n - 2i, n - i, n))\n",
        "            pfim = i + intervalo - 1                                            # Sn <- ((n - i)*(n + i)) / 2 -- Θ((n^2 + i^2) / 2)\n",
        "            if pfim >= c.num_meses:\n",
        "                pfim = c.num_meses - 1\n",
        "            contrato = get_menor_contrato_periodo(c,                            # Θ(f_2 * m)\n",
        "                0 if valor_total <= 0 else i,\n",
        "                pfim\n",
        "            )\n",
        "            valor_total += contrato.valor\n",
        "            if fornecedor > -1 and fornecedor != contrato.fornecedor:\n",
        "                valor_total += taxa_mud\n",
        "            print(f'{contrato} - Valor Total: {valor_total:.2f}'.format(contrato, valor_total))\n",
        "            if valor_total > menor_total:\n",
        "                print(f'O valor da lista de contratos atual {valor_total:.2f} ultrapassou o limite {menor_total:.2f}.')\n",
        "                break\n",
        "            solucao_atual.append(contrato)\n",
        "            fornecedor = contrato.fornecedor\n",
        "        if valor_total < menor_total:\n",
        "            print(f'Menor lista de contratos encontrada com valor total de {valor_total:.2f}')\n",
        "            menor_total = valor_total\n",
        "            menores_contratos = solucao_atual\n",
        "    return menores_contratos\n",
        "\n",
        "menores_contratos = menores_contratos_periodo_completo(c)\n",
        "print(f'Selecione os seguintes contratos para este período de {c.num_meses} meses: {menores_contratos}')"
      ]
    },
    {
      "cell_type": "markdown",
      "metadata": {},
      "source": [
        "j) Apresentar a complexidade da função descrita no item anterior, fazendo uso de notação assintótica e tendo como parâmetros somente a quantidade n de meses e a quantidade m de fornecedores.\n",
        "\n",
        "| Melhor caso  |  Pior caso   | Caso médio   |\n",
        "|:------------:|:------------:|:------------:|\n",
        "|  $Θ(m * n)$  | $Θ(m * n^3)$ | $Θ(m * n^3)$ |"
      ]
    }
  ],
  "metadata": {
    "kernelspec": {
      "display_name": "Python 3.8.1 64-bit",
      "language": "python",
      "name": "python38164bitdbad2368954b4b23893cfcf8cdc4ce91"
    },
    "language_info": {
      "codemirror_mode": {
        "name": "ipython",
        "version": 3
      },
      "file_extension": ".py",
      "mimetype": "text/x-python",
      "name": "python",
      "nbconvert_exporter": "python",
      "pygments_lexer": "ipython3",
      "version": "3.8.2-final"
    },
    "colab": {
      "name": "Trabalho de CANA - Equipe 3.ipynb",
      "provenance": [],
      "collapsed_sections": []
    }
  },
  "nbformat": 4,
  "nbformat_minor": 0
}